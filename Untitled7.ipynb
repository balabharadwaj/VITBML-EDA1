{
  "nbformat": 4,
  "nbformat_minor": 0,
  "metadata": {
    "colab": {
      "name": "Untitled7.ipynb",
      "provenance": [],
      "collapsed_sections": [],
      "authorship_tag": "ABX9TyP1G0+xcWU2KjKFJWMueIbI",
      "include_colab_link": true
    },
    "kernelspec": {
      "name": "python3",
      "display_name": "Python 3"
    }
  },
  "cells": [
    {
      "cell_type": "markdown",
      "metadata": {
        "id": "view-in-github",
        "colab_type": "text"
      },
      "source": [
        "<a href=\"https://colab.research.google.com/github/balabharadwaj/VITBML-EDA1/blob/master/Untitled7.ipynb\" target=\"_parent\"><img src=\"https://colab.research.google.com/assets/colab-badge.svg\" alt=\"Open In Colab\"/></a>"
      ]
    },
    {
      "cell_type": "markdown",
      "metadata": {
        "id": "uX1J_bo8sOme",
        "colab_type": "text"
      },
      "source": [
        ""
      ]
    },
    {
      "cell_type": "markdown",
      "metadata": {
        "id": "JVEZ9GFbswdG",
        "colab_type": "text"
      },
      "source": [
        "**DESCRIPTION**:\n",
        "\n",
        "\n",
        "*                **MATCH DETAILS OF OVER 6000 T20 MATCHES**\n",
        "*   **MATCH DETAILS**:SUMMARY OF THE MATCH INCLUDES STAGE OF TOURNAMENT,VENUE AND DATE OF THE MATCH\n",
        "\n",
        "*   **RESULT**:SUMMARY OF FINAL RESULT\n",
        "*   **SCORES**:SUMMARY OF THE SCORES OF TWO INNINGS\n",
        "\n",
        "*   **DATE**:DATE OF MATCH IN STANDARD DATE FORMAT \n",
        "*   **VENUE**:CITY OF MATCH\n",
        "\n",
        "\n",
        "\n",
        "*   **ROUND**:STAGE WITHIN TOURNAMENT\n",
        "*   **HOME**:DESIGNATED HOME TEAM\n",
        "\n",
        "*   **AWAY**:DESIGNATED AWAY TEAM\n",
        "*   **WINNER**:WINNER OF MATCH\n",
        "\n",
        "*   **INNINGS1_RUNS**:FIRST INNINGS SCORE\n",
        "*   **INNINGS2_RUNS**:SECOND INNINGS SCORE\n",
        "\n",
        "*   **TARGET**:RAIN ADJUSTED TARGET.IF BLANK,TARGET IS FIRST IS SCORE PLUS 1,AS NORMAL\n",
        "*   **NEW**:ALL T20 SERIES ADDED\n",
        "\n",
        "\n",
        "\n",
        "\n",
        "\n",
        "\n",
        "\n",
        "\n",
        "\n",
        "\n",
        "\n",
        "\n",
        "\n",
        "\n",
        "\n",
        "\n",
        "\n",
        "\n",
        "\n"
      ]
    },
    {
      "cell_type": "code",
      "metadata": {
        "id": "6IVK_rWV8UFJ",
        "colab_type": "code",
        "colab": {
          "base_uri": "https://localhost:8080/",
          "height": 602
        },
        "outputId": "6da15795-d5ee-45a8-b344-fd035e679a81"
      },
      "source": [
        "import pandas as pd\n",
        "df=pd.read_csv('t20matches (1).zip')\n",
        "df.tail()"
      ],
      "execution_count": 13,
      "outputs": [
        {
          "output_type": "execute_result",
          "data": {
            "text/html": [
              "<div>\n",
              "<style scoped>\n",
              "    .dataframe tbody tr th:only-of-type {\n",
              "        vertical-align: middle;\n",
              "    }\n",
              "\n",
              "    .dataframe tbody tr th {\n",
              "        vertical-align: top;\n",
              "    }\n",
              "\n",
              "    .dataframe thead th {\n",
              "        text-align: right;\n",
              "    }\n",
              "</style>\n",
              "<table border=\"1\" class=\"dataframe\">\n",
              "  <thead>\n",
              "    <tr style=\"text-align: right;\">\n",
              "      <th></th>\n",
              "      <th>match_id</th>\n",
              "      <th>series_id</th>\n",
              "      <th>match_details</th>\n",
              "      <th>result</th>\n",
              "      <th>scores</th>\n",
              "      <th>date</th>\n",
              "      <th>venue</th>\n",
              "      <th>round</th>\n",
              "      <th>home</th>\n",
              "      <th>away</th>\n",
              "      <th>winner</th>\n",
              "      <th>win_by_runs</th>\n",
              "      <th>win_by_wickets</th>\n",
              "      <th>balls_remaining</th>\n",
              "      <th>innings1</th>\n",
              "      <th>innings1_runs</th>\n",
              "      <th>innings1_wickets</th>\n",
              "      <th>innings1_overs_batted</th>\n",
              "      <th>innings1_overs</th>\n",
              "      <th>innings2</th>\n",
              "      <th>innings2_runs</th>\n",
              "      <th>innings2_wickets</th>\n",
              "      <th>innings2_overs_batted</th>\n",
              "      <th>innings2_overs</th>\n",
              "      <th>D/L_method</th>\n",
              "      <th>target</th>\n",
              "    </tr>\n",
              "  </thead>\n",
              "  <tbody>\n",
              "    <tr>\n",
              "      <th>6412</th>\n",
              "      <td>1083450</td>\n",
              "      <td>1083439</td>\n",
              "      <td>2nd T20I:Sri Lanka v Bangladesh at Colombo (RP...</td>\n",
              "      <td>Bangladesh won by 45 runs</td>\n",
              "      <td>Bangladesh 176/9 (20/20 ov); Sri Lanka 131 (18...</td>\n",
              "      <td>06/04/2017</td>\n",
              "      <td>Colombo (RPS)</td>\n",
              "      <td>2nd T20I</td>\n",
              "      <td>Sri Lanka</td>\n",
              "      <td>Bangladesh</td>\n",
              "      <td>Bangladesh</td>\n",
              "      <td>45.0</td>\n",
              "      <td>NaN</td>\n",
              "      <td>NaN</td>\n",
              "      <td>Bangladesh</td>\n",
              "      <td>176.0</td>\n",
              "      <td>9.0</td>\n",
              "      <td>20.0</td>\n",
              "      <td>20.0</td>\n",
              "      <td>Sri Lanka</td>\n",
              "      <td>131.0</td>\n",
              "      <td>10.0</td>\n",
              "      <td>18.0</td>\n",
              "      <td>20.0</td>\n",
              "      <td>NaN</td>\n",
              "      <td>NaN</td>\n",
              "    </tr>\n",
              "    <tr>\n",
              "      <th>6413</th>\n",
              "      <td>1082591</td>\n",
              "      <td>1078425</td>\n",
              "      <td>1st match:Sunrisers Hyderabad v Royal Challeng...</td>\n",
              "      <td>Sunrisers Hyderabad won by 35 runs</td>\n",
              "      <td>Sunrisers Hyderabad 207/4 (20/20 ov); Royal Ch...</td>\n",
              "      <td>05/04/2017</td>\n",
              "      <td>Hyderabad (Deccan)</td>\n",
              "      <td>1st match</td>\n",
              "      <td>Sunrisers Hyderabad</td>\n",
              "      <td>Royal Challengers Bangalore</td>\n",
              "      <td>Sunrisers Hyderabad</td>\n",
              "      <td>35.0</td>\n",
              "      <td>NaN</td>\n",
              "      <td>NaN</td>\n",
              "      <td>Sunrisers Hyderabad</td>\n",
              "      <td>207.0</td>\n",
              "      <td>4.0</td>\n",
              "      <td>20.0</td>\n",
              "      <td>20.0</td>\n",
              "      <td>Royal Challengers Bangalore</td>\n",
              "      <td>172.0</td>\n",
              "      <td>10.0</td>\n",
              "      <td>19.4</td>\n",
              "      <td>20.0</td>\n",
              "      <td>NaN</td>\n",
              "      <td>NaN</td>\n",
              "    </tr>\n",
              "    <tr>\n",
              "      <th>6414</th>\n",
              "      <td>1082592</td>\n",
              "      <td>1078425</td>\n",
              "      <td>2nd match:Rising Pune Supergiant v Mumbai Indi...</td>\n",
              "      <td>Rising Pune Supergiant won by 7 wickets (with ...</td>\n",
              "      <td>Mumbai Indians 184/8 (20/20 ov); Rising Pune S...</td>\n",
              "      <td>06/04/2017</td>\n",
              "      <td>Pune</td>\n",
              "      <td>2nd match</td>\n",
              "      <td>Rising Pune Supergiant</td>\n",
              "      <td>Mumbai Indians</td>\n",
              "      <td>Rising Pune Supergiant</td>\n",
              "      <td>NaN</td>\n",
              "      <td>7.0</td>\n",
              "      <td>1.0</td>\n",
              "      <td>Mumbai Indians</td>\n",
              "      <td>184.0</td>\n",
              "      <td>8.0</td>\n",
              "      <td>20.0</td>\n",
              "      <td>20.0</td>\n",
              "      <td>Rising Pune Supergiant</td>\n",
              "      <td>187.0</td>\n",
              "      <td>3.0</td>\n",
              "      <td>19.5</td>\n",
              "      <td>20.0</td>\n",
              "      <td>NaN</td>\n",
              "      <td>NaN</td>\n",
              "    </tr>\n",
              "    <tr>\n",
              "      <th>6415</th>\n",
              "      <td>1082593</td>\n",
              "      <td>1078425</td>\n",
              "      <td>3rd match:Gujarat Lions v Kolkata Knight Rider...</td>\n",
              "      <td>Kolkata Knight Riders won by 10 wickets (with ...</td>\n",
              "      <td>Gujarat Lions 183/4 (20/20 ov); Kolkata Knight...</td>\n",
              "      <td>07/04/2017</td>\n",
              "      <td>Rajkot</td>\n",
              "      <td>3rd match</td>\n",
              "      <td>Gujarat Lions</td>\n",
              "      <td>Kolkata Knight Riders</td>\n",
              "      <td>Kolkata Knight Riders</td>\n",
              "      <td>NaN</td>\n",
              "      <td>10.0</td>\n",
              "      <td>31.0</td>\n",
              "      <td>Gujarat Lions</td>\n",
              "      <td>183.0</td>\n",
              "      <td>4.0</td>\n",
              "      <td>20.0</td>\n",
              "      <td>20.0</td>\n",
              "      <td>Kolkata Knight Riders</td>\n",
              "      <td>184.0</td>\n",
              "      <td>0.0</td>\n",
              "      <td>14.5</td>\n",
              "      <td>20.0</td>\n",
              "      <td>NaN</td>\n",
              "      <td>NaN</td>\n",
              "    </tr>\n",
              "    <tr>\n",
              "      <th>6416</th>\n",
              "      <td>1082594</td>\n",
              "      <td>1078425</td>\n",
              "      <td>4th match:Kings XI Punjab v Rising Pune Superg...</td>\n",
              "      <td>Kings XI Punjab won by 6 wickets (with 6 balls...</td>\n",
              "      <td>Rising Pune Supergiant 163/6 (20/20 ov); Kings...</td>\n",
              "      <td>08/04/2017</td>\n",
              "      <td>Indore</td>\n",
              "      <td>4th match</td>\n",
              "      <td>Kings XI Punjab</td>\n",
              "      <td>Rising Pune Supergiant</td>\n",
              "      <td>Kings XI Punjab</td>\n",
              "      <td>NaN</td>\n",
              "      <td>6.0</td>\n",
              "      <td>6.0</td>\n",
              "      <td>Rising Pune Supergiant</td>\n",
              "      <td>163.0</td>\n",
              "      <td>6.0</td>\n",
              "      <td>20.0</td>\n",
              "      <td>20.0</td>\n",
              "      <td>Kings XI Punjab</td>\n",
              "      <td>164.0</td>\n",
              "      <td>4.0</td>\n",
              "      <td>19.0</td>\n",
              "      <td>20.0</td>\n",
              "      <td>NaN</td>\n",
              "      <td>NaN</td>\n",
              "    </tr>\n",
              "  </tbody>\n",
              "</table>\n",
              "</div>"
            ],
            "text/plain": [
              "      match_id  series_id  ... D/L_method target\n",
              "6412   1083450    1083439  ...        NaN    NaN\n",
              "6413   1082591    1078425  ...        NaN    NaN\n",
              "6414   1082592    1078425  ...        NaN    NaN\n",
              "6415   1082593    1078425  ...        NaN    NaN\n",
              "6416   1082594    1078425  ...        NaN    NaN\n",
              "\n",
              "[5 rows x 26 columns]"
            ]
          },
          "metadata": {
            "tags": []
          },
          "execution_count": 13
        }
      ]
    },
    {
      "cell_type": "code",
      "metadata": {
        "id": "ZMcg8vZH8U8v",
        "colab_type": "code",
        "outputId": "25b8cfd4-d24d-467a-d761-a4a04c305c41",
        "colab": {
          "base_uri": "https://localhost:8080/",
          "height": 467
        }
      },
      "source": [
        "import pandas as pd\n",
        "df=pd.read_csv('t20matches (1).zip')\n",
        "df.head()\n",
        "\n",
        "\n"
      ],
      "execution_count": 12,
      "outputs": [
        {
          "output_type": "execute_result",
          "data": {
            "text/html": [
              "<div>\n",
              "<style scoped>\n",
              "    .dataframe tbody tr th:only-of-type {\n",
              "        vertical-align: middle;\n",
              "    }\n",
              "\n",
              "    .dataframe tbody tr th {\n",
              "        vertical-align: top;\n",
              "    }\n",
              "\n",
              "    .dataframe thead th {\n",
              "        text-align: right;\n",
              "    }\n",
              "</style>\n",
              "<table border=\"1\" class=\"dataframe\">\n",
              "  <thead>\n",
              "    <tr style=\"text-align: right;\">\n",
              "      <th></th>\n",
              "      <th>match_id</th>\n",
              "      <th>series_id</th>\n",
              "      <th>match_details</th>\n",
              "      <th>result</th>\n",
              "      <th>scores</th>\n",
              "      <th>date</th>\n",
              "      <th>venue</th>\n",
              "      <th>round</th>\n",
              "      <th>home</th>\n",
              "      <th>away</th>\n",
              "      <th>winner</th>\n",
              "      <th>win_by_runs</th>\n",
              "      <th>win_by_wickets</th>\n",
              "      <th>balls_remaining</th>\n",
              "      <th>innings1</th>\n",
              "      <th>innings1_runs</th>\n",
              "      <th>innings1_wickets</th>\n",
              "      <th>innings1_overs_batted</th>\n",
              "      <th>innings1_overs</th>\n",
              "      <th>innings2</th>\n",
              "      <th>innings2_runs</th>\n",
              "      <th>innings2_wickets</th>\n",
              "      <th>innings2_overs_batted</th>\n",
              "      <th>innings2_overs</th>\n",
              "      <th>D/L_method</th>\n",
              "      <th>target</th>\n",
              "    </tr>\n",
              "  </thead>\n",
              "  <tbody>\n",
              "    <tr>\n",
              "      <th>0</th>\n",
              "      <td>304744</td>\n",
              "      <td>124121</td>\n",
              "      <td>North Group:Durham v Nottinghamshire at Cheste...</td>\n",
              "      <td>Durham won by 6 wickets (with 5 balls remaining)</td>\n",
              "      <td>Nottinghamshire 157/7 (20/20 ov); Durham 160/4...</td>\n",
              "      <td>13/06/2003</td>\n",
              "      <td>Chester-le-Street</td>\n",
              "      <td>North Group</td>\n",
              "      <td>Durham</td>\n",
              "      <td>Nottinghamshire</td>\n",
              "      <td>Durham</td>\n",
              "      <td>NaN</td>\n",
              "      <td>6.0</td>\n",
              "      <td>5.0</td>\n",
              "      <td>Nottinghamshire</td>\n",
              "      <td>157.0</td>\n",
              "      <td>7.0</td>\n",
              "      <td>20.0</td>\n",
              "      <td>20.0</td>\n",
              "      <td>Durham</td>\n",
              "      <td>160.0</td>\n",
              "      <td>4.0</td>\n",
              "      <td>19.1</td>\n",
              "      <td>20.0</td>\n",
              "      <td>NaN</td>\n",
              "      <td>NaN</td>\n",
              "    </tr>\n",
              "    <tr>\n",
              "      <th>1</th>\n",
              "      <td>129610</td>\n",
              "      <td>124121</td>\n",
              "      <td>South Group:Hampshire v Sussex at Southampton-...</td>\n",
              "      <td>Hampshire won by 5 runs</td>\n",
              "      <td>Hampshire 153 (19.4/20 ov); Sussex 148/7 (20/2...</td>\n",
              "      <td>13/06/2003</td>\n",
              "      <td>Southampton</td>\n",
              "      <td>South Group</td>\n",
              "      <td>Hampshire</td>\n",
              "      <td>Sussex</td>\n",
              "      <td>Hampshire</td>\n",
              "      <td>5.0</td>\n",
              "      <td>NaN</td>\n",
              "      <td>NaN</td>\n",
              "      <td>Hampshire</td>\n",
              "      <td>153.0</td>\n",
              "      <td>10.0</td>\n",
              "      <td>19.4</td>\n",
              "      <td>20.0</td>\n",
              "      <td>Sussex</td>\n",
              "      <td>148.0</td>\n",
              "      <td>7.0</td>\n",
              "      <td>20.0</td>\n",
              "      <td>20.0</td>\n",
              "      <td>NaN</td>\n",
              "      <td>NaN</td>\n",
              "    </tr>\n",
              "    <tr>\n",
              "      <th>2</th>\n",
              "      <td>129597</td>\n",
              "      <td>124121</td>\n",
              "      <td>Midlands/Wales/West Group:Somerset v Warwicksh...</td>\n",
              "      <td>Warwickshire won by 19 runs</td>\n",
              "      <td>Warwickshire 188/7 (20/20 ov); Somerset 169 (2...</td>\n",
              "      <td>13/06/2003</td>\n",
              "      <td>Taunton</td>\n",
              "      <td>Midlands/Wales/West Group</td>\n",
              "      <td>Somerset</td>\n",
              "      <td>Warwickshire</td>\n",
              "      <td>Warwickshire</td>\n",
              "      <td>19.0</td>\n",
              "      <td>NaN</td>\n",
              "      <td>NaN</td>\n",
              "      <td>Warwickshire</td>\n",
              "      <td>188.0</td>\n",
              "      <td>7.0</td>\n",
              "      <td>20.0</td>\n",
              "      <td>20.0</td>\n",
              "      <td>Somerset</td>\n",
              "      <td>169.0</td>\n",
              "      <td>10.0</td>\n",
              "      <td>20.0</td>\n",
              "      <td>20.0</td>\n",
              "      <td>NaN</td>\n",
              "      <td>NaN</td>\n",
              "    </tr>\n",
              "    <tr>\n",
              "      <th>3</th>\n",
              "      <td>304745</td>\n",
              "      <td>124121</td>\n",
              "      <td>South Group:Surrey v Middlesex at The Oval- Ju...</td>\n",
              "      <td>Surrey won by 4 wickets (with 4 balls remaining)</td>\n",
              "      <td>Middlesex 155 (20/20 ov); Surrey 158/6 (19.2/2...</td>\n",
              "      <td>13/06/2003</td>\n",
              "      <td>The Oval</td>\n",
              "      <td>South Group</td>\n",
              "      <td>Surrey</td>\n",
              "      <td>Middlesex</td>\n",
              "      <td>Surrey</td>\n",
              "      <td>NaN</td>\n",
              "      <td>4.0</td>\n",
              "      <td>4.0</td>\n",
              "      <td>Middlesex</td>\n",
              "      <td>155.0</td>\n",
              "      <td>10.0</td>\n",
              "      <td>20.0</td>\n",
              "      <td>20.0</td>\n",
              "      <td>Surrey</td>\n",
              "      <td>158.0</td>\n",
              "      <td>6.0</td>\n",
              "      <td>19.2</td>\n",
              "      <td>20.0</td>\n",
              "      <td>NaN</td>\n",
              "      <td>NaN</td>\n",
              "    </tr>\n",
              "    <tr>\n",
              "      <th>4</th>\n",
              "      <td>304746</td>\n",
              "      <td>124121</td>\n",
              "      <td>Midlands/Wales/West Group:Worcestershire v Nor...</td>\n",
              "      <td>Worcestershire won by 1 wicket (with 2 balls r...</td>\n",
              "      <td>Northamptonshire 150/9 (20/20 ov); Worcestersh...</td>\n",
              "      <td>13/06/2003</td>\n",
              "      <td>Worcester</td>\n",
              "      <td>Midlands/Wales/West Group</td>\n",
              "      <td>Worcestershire</td>\n",
              "      <td>Northamptonshire</td>\n",
              "      <td>Worcestershire</td>\n",
              "      <td>NaN</td>\n",
              "      <td>1.0</td>\n",
              "      <td>2.0</td>\n",
              "      <td>Northamptonshire</td>\n",
              "      <td>150.0</td>\n",
              "      <td>9.0</td>\n",
              "      <td>20.0</td>\n",
              "      <td>20.0</td>\n",
              "      <td>Worcestershire</td>\n",
              "      <td>151.0</td>\n",
              "      <td>9.0</td>\n",
              "      <td>19.4</td>\n",
              "      <td>20.0</td>\n",
              "      <td>NaN</td>\n",
              "      <td>NaN</td>\n",
              "    </tr>\n",
              "  </tbody>\n",
              "</table>\n",
              "</div>"
            ],
            "text/plain": [
              "   match_id  series_id  ... D/L_method target\n",
              "0    304744     124121  ...        NaN    NaN\n",
              "1    129610     124121  ...        NaN    NaN\n",
              "2    129597     124121  ...        NaN    NaN\n",
              "3    304745     124121  ...        NaN    NaN\n",
              "4    304746     124121  ...        NaN    NaN\n",
              "\n",
              "[5 rows x 26 columns]"
            ]
          },
          "metadata": {
            "tags": []
          },
          "execution_count": 12
        }
      ]
    },
    {
      "cell_type": "code",
      "metadata": {
        "id": "cbve0J39K6EF",
        "colab_type": "code",
        "outputId": "fb1d571d-a933-46fb-e463-4b68de7cf75c",
        "colab": {
          "base_uri": "https://localhost:8080/",
          "height": 301
        }
      },
      "source": [
        "df.mean()"
      ],
      "execution_count": 0,
      "outputs": [
        {
          "output_type": "execute_result",
          "data": {
            "text/plain": [
              "match_id                 600044.096307\n",
              "series_id                587981.553841\n",
              "win_by_runs                  31.320710\n",
              "win_by_wickets                6.089214\n",
              "balls_remaining              13.978107\n",
              "innings1_runs               151.409527\n",
              "innings1_wickets              6.577630\n",
              "innings1_overs_batted        19.523199\n",
              "innings1_overs               19.738612\n",
              "innings2_runs               136.125371\n",
              "innings2_wickets              5.998847\n",
              "innings2_overs_batted        17.862537\n",
              "innings2_overs               19.530659\n",
              "D/L_method                    1.000000\n",
              "target                      102.528139\n",
              "dtype: float64"
            ]
          },
          "metadata": {
            "tags": []
          },
          "execution_count": 67
        }
      ]
    },
    {
      "cell_type": "code",
      "metadata": {
        "id": "m_ao48EzLAHW",
        "colab_type": "code",
        "outputId": "f561d54a-4b92-41b3-9930-70c8343fa02d",
        "colab": {
          "base_uri": "https://localhost:8080/",
          "height": 301
        }
      },
      "source": [
        "df.median()"
      ],
      "execution_count": 0,
      "outputs": [
        {
          "output_type": "execute_result",
          "data": {
            "text/plain": [
              "match_id                 567353.0\n",
              "series_id                564280.0\n",
              "win_by_runs                  24.0\n",
              "win_by_wickets                6.0\n",
              "balls_remaining               9.0\n",
              "innings1_runs               152.0\n",
              "innings1_wickets              7.0\n",
              "innings1_overs_batted        20.0\n",
              "innings1_overs               20.0\n",
              "innings2_runs               138.0\n",
              "innings2_wickets              6.0\n",
              "innings2_overs_batted        19.1\n",
              "innings2_overs               20.0\n",
              "D/L_method                    1.0\n",
              "target                       98.0\n",
              "dtype: float64"
            ]
          },
          "metadata": {
            "tags": []
          },
          "execution_count": 50
        }
      ]
    },
    {
      "cell_type": "code",
      "metadata": {
        "id": "pxWXqr81LWU7",
        "colab_type": "code",
        "outputId": "104cc81b-299b-4162-b854-ec8e293dfd6c",
        "colab": {
          "base_uri": "https://localhost:8080/",
          "height": 302
        }
      },
      "source": [
        "df.describe()"
      ],
      "execution_count": 0,
      "outputs": [
        {
          "output_type": "execute_result",
          "data": {
            "text/html": [
              "<div>\n",
              "<style scoped>\n",
              "    .dataframe tbody tr th:only-of-type {\n",
              "        vertical-align: middle;\n",
              "    }\n",
              "\n",
              "    .dataframe tbody tr th {\n",
              "        vertical-align: top;\n",
              "    }\n",
              "\n",
              "    .dataframe thead th {\n",
              "        text-align: right;\n",
              "    }\n",
              "</style>\n",
              "<table border=\"1\" class=\"dataframe\">\n",
              "  <thead>\n",
              "    <tr style=\"text-align: right;\">\n",
              "      <th></th>\n",
              "      <th>match_id</th>\n",
              "      <th>series_id</th>\n",
              "      <th>win_by_runs</th>\n",
              "      <th>win_by_wickets</th>\n",
              "      <th>balls_remaining</th>\n",
              "      <th>innings1_runs</th>\n",
              "      <th>innings1_wickets</th>\n",
              "      <th>innings1_overs_batted</th>\n",
              "      <th>innings1_overs</th>\n",
              "      <th>innings2_runs</th>\n",
              "      <th>innings2_wickets</th>\n",
              "      <th>innings2_overs_batted</th>\n",
              "      <th>innings2_overs</th>\n",
              "      <th>D/L_method</th>\n",
              "      <th>target</th>\n",
              "    </tr>\n",
              "  </thead>\n",
              "  <tbody>\n",
              "    <tr>\n",
              "      <th>count</th>\n",
              "      <td>6.417000e+03</td>\n",
              "      <td>6.417000e+03</td>\n",
              "      <td>2931.000000</td>\n",
              "      <td>3004.000000</td>\n",
              "      <td>2969.000000</td>\n",
              "      <td>6151.000000</td>\n",
              "      <td>6151.000000</td>\n",
              "      <td>6151.000000</td>\n",
              "      <td>6151.000000</td>\n",
              "      <td>6070.000000</td>\n",
              "      <td>6070.000000</td>\n",
              "      <td>6070.000000</td>\n",
              "      <td>6070.000000</td>\n",
              "      <td>233.0</td>\n",
              "      <td>231.000000</td>\n",
              "    </tr>\n",
              "    <tr>\n",
              "      <th>mean</th>\n",
              "      <td>6.000441e+05</td>\n",
              "      <td>5.879816e+05</td>\n",
              "      <td>31.320710</td>\n",
              "      <td>6.089214</td>\n",
              "      <td>13.978107</td>\n",
              "      <td>151.409527</td>\n",
              "      <td>6.577630</td>\n",
              "      <td>19.523199</td>\n",
              "      <td>19.738612</td>\n",
              "      <td>136.125371</td>\n",
              "      <td>5.998847</td>\n",
              "      <td>17.862537</td>\n",
              "      <td>19.530659</td>\n",
              "      <td>1.0</td>\n",
              "      <td>102.528139</td>\n",
              "    </tr>\n",
              "    <tr>\n",
              "      <th>std</th>\n",
              "      <td>2.302316e+05</td>\n",
              "      <td>2.387841e+05</td>\n",
              "      <td>26.838237</td>\n",
              "      <td>1.996341</td>\n",
              "      <td>14.664918</td>\n",
              "      <td>32.986924</td>\n",
              "      <td>2.152355</td>\n",
              "      <td>1.924720</td>\n",
              "      <td>1.510632</td>\n",
              "      <td>31.880776</td>\n",
              "      <td>2.923842</td>\n",
              "      <td>3.075877</td>\n",
              "      <td>2.108147</td>\n",
              "      <td>0.0</td>\n",
              "      <td>40.406713</td>\n",
              "    </tr>\n",
              "    <tr>\n",
              "      <th>min</th>\n",
              "      <td>1.295970e+05</td>\n",
              "      <td>1.241210e+05</td>\n",
              "      <td>1.000000</td>\n",
              "      <td>1.000000</td>\n",
              "      <td>0.000000</td>\n",
              "      <td>1.000000</td>\n",
              "      <td>0.000000</td>\n",
              "      <td>0.200000</td>\n",
              "      <td>5.000000</td>\n",
              "      <td>0.000000</td>\n",
              "      <td>0.000000</td>\n",
              "      <td>0.100000</td>\n",
              "      <td>5.000000</td>\n",
              "      <td>1.0</td>\n",
              "      <td>20.000000</td>\n",
              "    </tr>\n",
              "    <tr>\n",
              "      <th>25%</th>\n",
              "      <td>4.249410e+05</td>\n",
              "      <td>4.200050e+05</td>\n",
              "      <td>11.000000</td>\n",
              "      <td>5.000000</td>\n",
              "      <td>4.000000</td>\n",
              "      <td>131.000000</td>\n",
              "      <td>5.000000</td>\n",
              "      <td>20.000000</td>\n",
              "      <td>20.000000</td>\n",
              "      <td>117.000000</td>\n",
              "      <td>4.000000</td>\n",
              "      <td>17.200000</td>\n",
              "      <td>20.000000</td>\n",
              "      <td>1.0</td>\n",
              "      <td>72.000000</td>\n",
              "    </tr>\n",
              "    <tr>\n",
              "      <th>50%</th>\n",
              "      <td>5.673530e+05</td>\n",
              "      <td>5.642800e+05</td>\n",
              "      <td>24.000000</td>\n",
              "      <td>6.000000</td>\n",
              "      <td>9.000000</td>\n",
              "      <td>152.000000</td>\n",
              "      <td>7.000000</td>\n",
              "      <td>20.000000</td>\n",
              "      <td>20.000000</td>\n",
              "      <td>138.000000</td>\n",
              "      <td>6.000000</td>\n",
              "      <td>19.100000</td>\n",
              "      <td>20.000000</td>\n",
              "      <td>1.0</td>\n",
              "      <td>98.000000</td>\n",
              "    </tr>\n",
              "    <tr>\n",
              "      <th>75%</th>\n",
              "      <td>7.760790e+05</td>\n",
              "      <td>7.754450e+05</td>\n",
              "      <td>45.000000</td>\n",
              "      <td>8.000000</td>\n",
              "      <td>19.000000</td>\n",
              "      <td>173.000000</td>\n",
              "      <td>8.000000</td>\n",
              "      <td>20.000000</td>\n",
              "      <td>20.000000</td>\n",
              "      <td>157.000000</td>\n",
              "      <td>9.000000</td>\n",
              "      <td>20.000000</td>\n",
              "      <td>20.000000</td>\n",
              "      <td>1.0</td>\n",
              "      <td>129.000000</td>\n",
              "    </tr>\n",
              "    <tr>\n",
              "      <th>max</th>\n",
              "      <td>1.085496e+06</td>\n",
              "      <td>1.083439e+06</td>\n",
              "      <td>172.000000</td>\n",
              "      <td>10.000000</td>\n",
              "      <td>100.000000</td>\n",
              "      <td>263.000000</td>\n",
              "      <td>10.000000</td>\n",
              "      <td>20.000000</td>\n",
              "      <td>20.000000</td>\n",
              "      <td>248.000000</td>\n",
              "      <td>10.000000</td>\n",
              "      <td>20.000000</td>\n",
              "      <td>20.000000</td>\n",
              "      <td>1.0</td>\n",
              "      <td>233.000000</td>\n",
              "    </tr>\n",
              "  </tbody>\n",
              "</table>\n",
              "</div>"
            ],
            "text/plain": [
              "           match_id     series_id  ...  D/L_method      target\n",
              "count  6.417000e+03  6.417000e+03  ...       233.0  231.000000\n",
              "mean   6.000441e+05  5.879816e+05  ...         1.0  102.528139\n",
              "std    2.302316e+05  2.387841e+05  ...         0.0   40.406713\n",
              "min    1.295970e+05  1.241210e+05  ...         1.0   20.000000\n",
              "25%    4.249410e+05  4.200050e+05  ...         1.0   72.000000\n",
              "50%    5.673530e+05  5.642800e+05  ...         1.0   98.000000\n",
              "75%    7.760790e+05  7.754450e+05  ...         1.0  129.000000\n",
              "max    1.085496e+06  1.083439e+06  ...         1.0  233.000000\n",
              "\n",
              "[8 rows x 15 columns]"
            ]
          },
          "metadata": {
            "tags": []
          },
          "execution_count": 65
        }
      ]
    },
    {
      "cell_type": "code",
      "metadata": {
        "id": "Dclc0snvLqC4",
        "colab_type": "code",
        "outputId": "7deac41a-a52f-462a-af45-1b22173237ce",
        "colab": {
          "base_uri": "https://localhost:8080/",
          "height": 497
        }
      },
      "source": [
        "df.isna().sum()"
      ],
      "execution_count": 0,
      "outputs": [
        {
          "output_type": "execute_result",
          "data": {
            "text/plain": [
              "match_id                    0\n",
              "series_id                   0\n",
              "match_details               0\n",
              "result                     14\n",
              "scores                    266\n",
              "date                        0\n",
              "venue                       0\n",
              "round                    1274\n",
              "home                        0\n",
              "away                        0\n",
              "winner                     14\n",
              "win_by_runs              3486\n",
              "win_by_wickets           3413\n",
              "balls_remaining          3448\n",
              "innings1                  266\n",
              "innings1_runs             266\n",
              "innings1_wickets          266\n",
              "innings1_overs_batted     266\n",
              "innings1_overs            266\n",
              "innings2                  347\n",
              "innings2_runs             347\n",
              "innings2_wickets          347\n",
              "innings2_overs_batted     347\n",
              "innings2_overs            347\n",
              "D/L_method               6184\n",
              "target                   6186\n",
              "dtype: int64"
            ]
          },
          "metadata": {
            "tags": []
          },
          "execution_count": 64
        }
      ]
    },
    {
      "cell_type": "code",
      "metadata": {
        "id": "Gjon4ZJGL8WU",
        "colab_type": "code",
        "outputId": "696e7407-97c7-4bd8-e82e-ef727d27a572",
        "colab": {
          "base_uri": "https://localhost:8080/",
          "height": 943
        }
      },
      "source": [
        "df.fillna(df[\"balls_remaining\"].mean())"
      ],
      "execution_count": 0,
      "outputs": [
        {
          "output_type": "execute_result",
          "data": {
            "text/html": [
              "<div>\n",
              "<style scoped>\n",
              "    .dataframe tbody tr th:only-of-type {\n",
              "        vertical-align: middle;\n",
              "    }\n",
              "\n",
              "    .dataframe tbody tr th {\n",
              "        vertical-align: top;\n",
              "    }\n",
              "\n",
              "    .dataframe thead th {\n",
              "        text-align: right;\n",
              "    }\n",
              "</style>\n",
              "<table border=\"1\" class=\"dataframe\">\n",
              "  <thead>\n",
              "    <tr style=\"text-align: right;\">\n",
              "      <th></th>\n",
              "      <th>match_id</th>\n",
              "      <th>series_id</th>\n",
              "      <th>match_details</th>\n",
              "      <th>result</th>\n",
              "      <th>scores</th>\n",
              "      <th>date</th>\n",
              "      <th>venue</th>\n",
              "      <th>round</th>\n",
              "      <th>home</th>\n",
              "      <th>away</th>\n",
              "      <th>winner</th>\n",
              "      <th>win_by_runs</th>\n",
              "      <th>win_by_wickets</th>\n",
              "      <th>balls_remaining</th>\n",
              "      <th>innings1</th>\n",
              "      <th>innings1_runs</th>\n",
              "      <th>innings1_wickets</th>\n",
              "      <th>innings1_overs_batted</th>\n",
              "      <th>innings1_overs</th>\n",
              "      <th>innings2</th>\n",
              "      <th>innings2_runs</th>\n",
              "      <th>innings2_wickets</th>\n",
              "      <th>innings2_overs_batted</th>\n",
              "      <th>innings2_overs</th>\n",
              "      <th>D/L_method</th>\n",
              "      <th>target</th>\n",
              "    </tr>\n",
              "  </thead>\n",
              "  <tbody>\n",
              "    <tr>\n",
              "      <th>0</th>\n",
              "      <td>304744</td>\n",
              "      <td>124121</td>\n",
              "      <td>North Group:Durham v Nottinghamshire at Cheste...</td>\n",
              "      <td>Durham won by 6 wickets (with 5 balls remaining)</td>\n",
              "      <td>Nottinghamshire 157/7 (20/20 ov); Durham 160/4...</td>\n",
              "      <td>13/06/2003</td>\n",
              "      <td>Chester-le-Street</td>\n",
              "      <td>North Group</td>\n",
              "      <td>Durham</td>\n",
              "      <td>Nottinghamshire</td>\n",
              "      <td>Durham</td>\n",
              "      <td>13.978107</td>\n",
              "      <td>6.000000</td>\n",
              "      <td>5.000000</td>\n",
              "      <td>Nottinghamshire</td>\n",
              "      <td>157.0</td>\n",
              "      <td>7.0</td>\n",
              "      <td>20.0</td>\n",
              "      <td>20.0</td>\n",
              "      <td>Durham</td>\n",
              "      <td>160.0</td>\n",
              "      <td>4.0</td>\n",
              "      <td>19.1</td>\n",
              "      <td>20.0</td>\n",
              "      <td>13.978107</td>\n",
              "      <td>13.978107</td>\n",
              "    </tr>\n",
              "    <tr>\n",
              "      <th>1</th>\n",
              "      <td>129610</td>\n",
              "      <td>124121</td>\n",
              "      <td>South Group:Hampshire v Sussex at Southampton-...</td>\n",
              "      <td>Hampshire won by 5 runs</td>\n",
              "      <td>Hampshire 153 (19.4/20 ov); Sussex 148/7 (20/2...</td>\n",
              "      <td>13/06/2003</td>\n",
              "      <td>Southampton</td>\n",
              "      <td>South Group</td>\n",
              "      <td>Hampshire</td>\n",
              "      <td>Sussex</td>\n",
              "      <td>Hampshire</td>\n",
              "      <td>5.000000</td>\n",
              "      <td>13.978107</td>\n",
              "      <td>13.978107</td>\n",
              "      <td>Hampshire</td>\n",
              "      <td>153.0</td>\n",
              "      <td>10.0</td>\n",
              "      <td>19.4</td>\n",
              "      <td>20.0</td>\n",
              "      <td>Sussex</td>\n",
              "      <td>148.0</td>\n",
              "      <td>7.0</td>\n",
              "      <td>20.0</td>\n",
              "      <td>20.0</td>\n",
              "      <td>13.978107</td>\n",
              "      <td>13.978107</td>\n",
              "    </tr>\n",
              "    <tr>\n",
              "      <th>2</th>\n",
              "      <td>129597</td>\n",
              "      <td>124121</td>\n",
              "      <td>Midlands/Wales/West Group:Somerset v Warwicksh...</td>\n",
              "      <td>Warwickshire won by 19 runs</td>\n",
              "      <td>Warwickshire 188/7 (20/20 ov); Somerset 169 (2...</td>\n",
              "      <td>13/06/2003</td>\n",
              "      <td>Taunton</td>\n",
              "      <td>Midlands/Wales/West Group</td>\n",
              "      <td>Somerset</td>\n",
              "      <td>Warwickshire</td>\n",
              "      <td>Warwickshire</td>\n",
              "      <td>19.000000</td>\n",
              "      <td>13.978107</td>\n",
              "      <td>13.978107</td>\n",
              "      <td>Warwickshire</td>\n",
              "      <td>188.0</td>\n",
              "      <td>7.0</td>\n",
              "      <td>20.0</td>\n",
              "      <td>20.0</td>\n",
              "      <td>Somerset</td>\n",
              "      <td>169.0</td>\n",
              "      <td>10.0</td>\n",
              "      <td>20.0</td>\n",
              "      <td>20.0</td>\n",
              "      <td>13.978107</td>\n",
              "      <td>13.978107</td>\n",
              "    </tr>\n",
              "    <tr>\n",
              "      <th>3</th>\n",
              "      <td>304745</td>\n",
              "      <td>124121</td>\n",
              "      <td>South Group:Surrey v Middlesex at The Oval- Ju...</td>\n",
              "      <td>Surrey won by 4 wickets (with 4 balls remaining)</td>\n",
              "      <td>Middlesex 155 (20/20 ov); Surrey 158/6 (19.2/2...</td>\n",
              "      <td>13/06/2003</td>\n",
              "      <td>The Oval</td>\n",
              "      <td>South Group</td>\n",
              "      <td>Surrey</td>\n",
              "      <td>Middlesex</td>\n",
              "      <td>Surrey</td>\n",
              "      <td>13.978107</td>\n",
              "      <td>4.000000</td>\n",
              "      <td>4.000000</td>\n",
              "      <td>Middlesex</td>\n",
              "      <td>155.0</td>\n",
              "      <td>10.0</td>\n",
              "      <td>20.0</td>\n",
              "      <td>20.0</td>\n",
              "      <td>Surrey</td>\n",
              "      <td>158.0</td>\n",
              "      <td>6.0</td>\n",
              "      <td>19.2</td>\n",
              "      <td>20.0</td>\n",
              "      <td>13.978107</td>\n",
              "      <td>13.978107</td>\n",
              "    </tr>\n",
              "    <tr>\n",
              "      <th>4</th>\n",
              "      <td>304746</td>\n",
              "      <td>124121</td>\n",
              "      <td>Midlands/Wales/West Group:Worcestershire v Nor...</td>\n",
              "      <td>Worcestershire won by 1 wicket (with 2 balls r...</td>\n",
              "      <td>Northamptonshire 150/9 (20/20 ov); Worcestersh...</td>\n",
              "      <td>13/06/2003</td>\n",
              "      <td>Worcester</td>\n",
              "      <td>Midlands/Wales/West Group</td>\n",
              "      <td>Worcestershire</td>\n",
              "      <td>Northamptonshire</td>\n",
              "      <td>Worcestershire</td>\n",
              "      <td>13.978107</td>\n",
              "      <td>1.000000</td>\n",
              "      <td>2.000000</td>\n",
              "      <td>Northamptonshire</td>\n",
              "      <td>150.0</td>\n",
              "      <td>9.0</td>\n",
              "      <td>20.0</td>\n",
              "      <td>20.0</td>\n",
              "      <td>Worcestershire</td>\n",
              "      <td>151.0</td>\n",
              "      <td>9.0</td>\n",
              "      <td>19.4</td>\n",
              "      <td>20.0</td>\n",
              "      <td>13.978107</td>\n",
              "      <td>13.978107</td>\n",
              "    </tr>\n",
              "    <tr>\n",
              "      <th>...</th>\n",
              "      <td>...</td>\n",
              "      <td>...</td>\n",
              "      <td>...</td>\n",
              "      <td>...</td>\n",
              "      <td>...</td>\n",
              "      <td>...</td>\n",
              "      <td>...</td>\n",
              "      <td>...</td>\n",
              "      <td>...</td>\n",
              "      <td>...</td>\n",
              "      <td>...</td>\n",
              "      <td>...</td>\n",
              "      <td>...</td>\n",
              "      <td>...</td>\n",
              "      <td>...</td>\n",
              "      <td>...</td>\n",
              "      <td>...</td>\n",
              "      <td>...</td>\n",
              "      <td>...</td>\n",
              "      <td>...</td>\n",
              "      <td>...</td>\n",
              "      <td>...</td>\n",
              "      <td>...</td>\n",
              "      <td>...</td>\n",
              "      <td>...</td>\n",
              "      <td>...</td>\n",
              "    </tr>\n",
              "    <tr>\n",
              "      <th>6412</th>\n",
              "      <td>1083450</td>\n",
              "      <td>1083439</td>\n",
              "      <td>2nd T20I:Sri Lanka v Bangladesh at Colombo (RP...</td>\n",
              "      <td>Bangladesh won by 45 runs</td>\n",
              "      <td>Bangladesh 176/9 (20/20 ov); Sri Lanka 131 (18...</td>\n",
              "      <td>06/04/2017</td>\n",
              "      <td>Colombo (RPS)</td>\n",
              "      <td>2nd T20I</td>\n",
              "      <td>Sri Lanka</td>\n",
              "      <td>Bangladesh</td>\n",
              "      <td>Bangladesh</td>\n",
              "      <td>45.000000</td>\n",
              "      <td>13.978107</td>\n",
              "      <td>13.978107</td>\n",
              "      <td>Bangladesh</td>\n",
              "      <td>176.0</td>\n",
              "      <td>9.0</td>\n",
              "      <td>20.0</td>\n",
              "      <td>20.0</td>\n",
              "      <td>Sri Lanka</td>\n",
              "      <td>131.0</td>\n",
              "      <td>10.0</td>\n",
              "      <td>18.0</td>\n",
              "      <td>20.0</td>\n",
              "      <td>13.978107</td>\n",
              "      <td>13.978107</td>\n",
              "    </tr>\n",
              "    <tr>\n",
              "      <th>6413</th>\n",
              "      <td>1082591</td>\n",
              "      <td>1078425</td>\n",
              "      <td>1st match:Sunrisers Hyderabad v Royal Challeng...</td>\n",
              "      <td>Sunrisers Hyderabad won by 35 runs</td>\n",
              "      <td>Sunrisers Hyderabad 207/4 (20/20 ov); Royal Ch...</td>\n",
              "      <td>05/04/2017</td>\n",
              "      <td>Hyderabad (Deccan)</td>\n",
              "      <td>1st match</td>\n",
              "      <td>Sunrisers Hyderabad</td>\n",
              "      <td>Royal Challengers Bangalore</td>\n",
              "      <td>Sunrisers Hyderabad</td>\n",
              "      <td>35.000000</td>\n",
              "      <td>13.978107</td>\n",
              "      <td>13.978107</td>\n",
              "      <td>Sunrisers Hyderabad</td>\n",
              "      <td>207.0</td>\n",
              "      <td>4.0</td>\n",
              "      <td>20.0</td>\n",
              "      <td>20.0</td>\n",
              "      <td>Royal Challengers Bangalore</td>\n",
              "      <td>172.0</td>\n",
              "      <td>10.0</td>\n",
              "      <td>19.4</td>\n",
              "      <td>20.0</td>\n",
              "      <td>13.978107</td>\n",
              "      <td>13.978107</td>\n",
              "    </tr>\n",
              "    <tr>\n",
              "      <th>6414</th>\n",
              "      <td>1082592</td>\n",
              "      <td>1078425</td>\n",
              "      <td>2nd match:Rising Pune Supergiant v Mumbai Indi...</td>\n",
              "      <td>Rising Pune Supergiant won by 7 wickets (with ...</td>\n",
              "      <td>Mumbai Indians 184/8 (20/20 ov); Rising Pune S...</td>\n",
              "      <td>06/04/2017</td>\n",
              "      <td>Pune</td>\n",
              "      <td>2nd match</td>\n",
              "      <td>Rising Pune Supergiant</td>\n",
              "      <td>Mumbai Indians</td>\n",
              "      <td>Rising Pune Supergiant</td>\n",
              "      <td>13.978107</td>\n",
              "      <td>7.000000</td>\n",
              "      <td>1.000000</td>\n",
              "      <td>Mumbai Indians</td>\n",
              "      <td>184.0</td>\n",
              "      <td>8.0</td>\n",
              "      <td>20.0</td>\n",
              "      <td>20.0</td>\n",
              "      <td>Rising Pune Supergiant</td>\n",
              "      <td>187.0</td>\n",
              "      <td>3.0</td>\n",
              "      <td>19.5</td>\n",
              "      <td>20.0</td>\n",
              "      <td>13.978107</td>\n",
              "      <td>13.978107</td>\n",
              "    </tr>\n",
              "    <tr>\n",
              "      <th>6415</th>\n",
              "      <td>1082593</td>\n",
              "      <td>1078425</td>\n",
              "      <td>3rd match:Gujarat Lions v Kolkata Knight Rider...</td>\n",
              "      <td>Kolkata Knight Riders won by 10 wickets (with ...</td>\n",
              "      <td>Gujarat Lions 183/4 (20/20 ov); Kolkata Knight...</td>\n",
              "      <td>07/04/2017</td>\n",
              "      <td>Rajkot</td>\n",
              "      <td>3rd match</td>\n",
              "      <td>Gujarat Lions</td>\n",
              "      <td>Kolkata Knight Riders</td>\n",
              "      <td>Kolkata Knight Riders</td>\n",
              "      <td>13.978107</td>\n",
              "      <td>10.000000</td>\n",
              "      <td>31.000000</td>\n",
              "      <td>Gujarat Lions</td>\n",
              "      <td>183.0</td>\n",
              "      <td>4.0</td>\n",
              "      <td>20.0</td>\n",
              "      <td>20.0</td>\n",
              "      <td>Kolkata Knight Riders</td>\n",
              "      <td>184.0</td>\n",
              "      <td>0.0</td>\n",
              "      <td>14.5</td>\n",
              "      <td>20.0</td>\n",
              "      <td>13.978107</td>\n",
              "      <td>13.978107</td>\n",
              "    </tr>\n",
              "    <tr>\n",
              "      <th>6416</th>\n",
              "      <td>1082594</td>\n",
              "      <td>1078425</td>\n",
              "      <td>4th match:Kings XI Punjab v Rising Pune Superg...</td>\n",
              "      <td>Kings XI Punjab won by 6 wickets (with 6 balls...</td>\n",
              "      <td>Rising Pune Supergiant 163/6 (20/20 ov); Kings...</td>\n",
              "      <td>08/04/2017</td>\n",
              "      <td>Indore</td>\n",
              "      <td>4th match</td>\n",
              "      <td>Kings XI Punjab</td>\n",
              "      <td>Rising Pune Supergiant</td>\n",
              "      <td>Kings XI Punjab</td>\n",
              "      <td>13.978107</td>\n",
              "      <td>6.000000</td>\n",
              "      <td>6.000000</td>\n",
              "      <td>Rising Pune Supergiant</td>\n",
              "      <td>163.0</td>\n",
              "      <td>6.0</td>\n",
              "      <td>20.0</td>\n",
              "      <td>20.0</td>\n",
              "      <td>Kings XI Punjab</td>\n",
              "      <td>164.0</td>\n",
              "      <td>4.0</td>\n",
              "      <td>19.0</td>\n",
              "      <td>20.0</td>\n",
              "      <td>13.978107</td>\n",
              "      <td>13.978107</td>\n",
              "    </tr>\n",
              "  </tbody>\n",
              "</table>\n",
              "<p>6417 rows × 26 columns</p>\n",
              "</div>"
            ],
            "text/plain": [
              "      match_id  series_id  ... D/L_method     target\n",
              "0       304744     124121  ...  13.978107  13.978107\n",
              "1       129610     124121  ...  13.978107  13.978107\n",
              "2       129597     124121  ...  13.978107  13.978107\n",
              "3       304745     124121  ...  13.978107  13.978107\n",
              "4       304746     124121  ...  13.978107  13.978107\n",
              "...        ...        ...  ...        ...        ...\n",
              "6412   1083450    1083439  ...  13.978107  13.978107\n",
              "6413   1082591    1078425  ...  13.978107  13.978107\n",
              "6414   1082592    1078425  ...  13.978107  13.978107\n",
              "6415   1082593    1078425  ...  13.978107  13.978107\n",
              "6416   1082594    1078425  ...  13.978107  13.978107\n",
              "\n",
              "[6417 rows x 26 columns]"
            ]
          },
          "metadata": {
            "tags": []
          },
          "execution_count": 63
        }
      ]
    },
    {
      "cell_type": "code",
      "metadata": {
        "id": "AH2TFL1GsLhW",
        "colab_type": "code",
        "outputId": "e3bc398d-8331-4491-d12b-c5aedb414802",
        "colab": {
          "base_uri": "https://localhost:8080/",
          "height": 35
        }
      },
      "source": [
        "from matplotlib import pyplot as plt\n",
        "df=pd.read_csv(\"t20matches (1).zip\")\n",
        "print(df.shape)"
      ],
      "execution_count": 0,
      "outputs": [
        {
          "output_type": "stream",
          "text": [
            "(6417, 26)\n"
          ],
          "name": "stdout"
        }
      ]
    },
    {
      "cell_type": "code",
      "metadata": {
        "id": "EW5dV2FFEz5a",
        "colab_type": "code",
        "outputId": "f7df8269-c1c6-4a5c-a636-1e113e9fec7c",
        "colab": {
          "base_uri": "https://localhost:8080/",
          "height": 265
        }
      },
      "source": [
        "in1_in1runs=df.groupby(\"innings1_runs\")[\"win_by_wickets\"].mean()\n",
        "plt.style.use('ggplot')\n",
        "in1_in1runs.plot(kind='hist')\n",
        "plt.show()"
      ],
      "execution_count": 0,
      "outputs": [
        {
          "output_type": "display_data",
          "data": {
            "image/png": "[encoded data removed]",
            "text/plain": [
              "<Figure size 432x288 with 1 Axes>"
            ]
          },
          "metadata": {
            "tags": []
          }
        }
      ]
    },
    {
      "cell_type": "code",
      "metadata": {
        "id": "LbSjTNCvF1Gx",
        "colab_type": "code",
        "outputId": "9b8ecbe1-857a-4090-cf38-049c23badfdc",
        "colab": {
          "base_uri": "https://localhost:8080/",
          "height": 294
        }
      },
      "source": [
        "in2=df.groupby('innings2_wickets')['innings1_runs'].mean()\n",
        "plt.style.use('ggplot')\n",
        "in2.plot(kind='bar')\n",
        "plt.show()"
      ],
      "execution_count": 0,
      "outputs": [
        {
          "output_type": "display_data",
          "data": {
            "image/png": "[encoded data removed]",
            "text/plain": [
              "<Figure size 432x288 with 1 Axes>"
            ]
          },
          "metadata": {
            "tags": []
          }
        }
      ]
    },
    {
      "cell_type": "code",
      "metadata": {
        "id": "V-mHGjRFGr5q",
        "colab_type": "code",
        "outputId": "6068af6b-f24c-4f1b-8f6e-05c125c0d4c1",
        "colab": {
          "base_uri": "https://localhost:8080/",
          "height": 248
        }
      },
      "source": [
        "in3=df.groupby('innings2_wickets')['innings1_runs'].mean()\n",
        "plt.style.use('ggplot')\n",
        "in3.plot(kind='pie')\n",
        "plt.show()"
      ],
      "execution_count": 0,
      "outputs": [
        {
          "output_type": "display_data",
          "data": {
            "image/png": "[encoded data removed]",
            "text/plain": [
              "<Figure size 432x288 with 1 Axes>"
            ]
          },
          "metadata": {
            "tags": []
          }
        }
      ]
    },
    {
      "cell_type": "code",
      "metadata": {
        "id": "EinaN9k6Ivc1",
        "colab_type": "code",
        "outputId": "54eaecae-420a-4d61-be93-65e665ff9025",
        "colab": {
          "base_uri": "https://localhost:8080/",
          "height": 299
        }
      },
      "source": [
        "in3=df.groupby('innings2_wickets')['innings1_runs'].mean()\n",
        "in3.plot()\n",
        "plt.xlabel(\"innings2_wickets\")\n",
        "plt.ylabel(\"innings1_runs\")\n",
        "plt.title(\"wickets and runs\")\n",
        "plt.show()"
      ],
      "execution_count": 0,
      "outputs": [
        {
          "output_type": "display_data",
          "data": {
            "image/png": "[encoded data removed]",
            "text/plain": [
              "<Figure size 432x288 with 1 Axes>"
            ]
          },
          "metadata": {
            "tags": []
          }
        }
      ]
    },
    {
      "cell_type": "code",
      "metadata": {
        "id": "R03gVxn5KZwP",
        "colab_type": "code",
        "colab": {}
      },
      "source": [
        ""
      ],
      "execution_count": 0,
      "outputs": []
    },
    {
      "cell_type": "code",
      "metadata": {
        "id": "6-UoFpykOGxH",
        "colab_type": "code",
        "outputId": "beef6783-9c13-4780-93bd-fd067fb4290d",
        "colab": {
          "base_uri": "https://localhost:8080/",
          "height": 298
        }
      },
      "source": [
        "import seaborn as sns\n",
        "sns.barplot(x='innings2_wickets',y='innings1_runs',data=df)"
      ],
      "execution_count": 14,
      "outputs": [
        {
          "output_type": "execute_result",
          "data": {
            "text/plain": [
              "<matplotlib.axes._subplots.AxesSubplot at 0x7f8ddf899ac8>"
            ]
          },
          "metadata": {
            "tags": []
          },
          "execution_count": 14
        },
        {
          "output_type": "display_data",
          "data": {
            "image/png": "[encoded data removed]",
            "text/plain": [
              "<Figure size 432x288 with 1 Axes>"
            ]
          },
          "metadata": {
            "tags": []
          }
        }
      ]
    },
    {
      "cell_type": "code",
      "metadata": {
        "id": "7V3GMRpdO0el",
        "colab_type": "code",
        "colab": {
          "base_uri": "https://localhost:8080/",
          "height": 298
        },
        "outputId": "665936aa-1e1e-47f4-a2d5-058d4e1bff0e"
      },
      "source": [
        "sns.boxplot(x='innings1_wickets',y='innings2_wickets',data=df)"
      ],
      "execution_count": 18,
      "outputs": [
        {
          "output_type": "execute_result",
          "data": {
            "text/plain": [
              "<matplotlib.axes._subplots.AxesSubplot at 0x7f8ddcdcd780>"
            ]
          },
          "metadata": {
            "tags": []
          },
          "execution_count": 18
        },
        {
          "output_type": "display_data",
          "data": {
            "image/png": "[encoded data removed]",
            "text/plain": [
              "<Figure size 432x288 with 1 Axes>"
            ]
          },
          "metadata": {
            "tags": []
          }
        }
      ]
    },
    {
      "cell_type": "code",
      "metadata": {
        "id": "rkS7GvIEVKru",
        "colab_type": "code",
        "colab": {
          "base_uri": "https://localhost:8080/",
          "height": 441
        },
        "outputId": "5fd5a114-5d45-4b75-80ff-9bc742632e06"
      },
      "source": [
        "sns.jointplot(x=\"innings2_wickets\",y=\"win_by_wickets\",data=df,kind='scatter')\n",
        "plt.show()"
      ],
      "execution_count": 22,
      "outputs": [
        {
          "output_type": "display_data",
          "data": {
            "image/png": "[encoded data removed]",
            "text/plain": [
              "<Figure size 432x432 with 3 Axes>"
            ]
          },
          "metadata": {
            "tags": []
          }
        }
      ]
    },
    {
      "cell_type": "code",
      "metadata": {
        "id": "hqC4PljBYunq",
        "colab_type": "code",
        "colab": {
          "base_uri": "https://localhost:8080/",
          "height": 283
        },
        "outputId": "ac55e9bc-ebfb-4839-84ed-5d6e7c9cd178"
      },
      "source": [
        "sns.kdeplot(df[\"win_by_wickets\"])"
      ],
      "execution_count": 23,
      "outputs": [
        {
          "output_type": "execute_result",
          "data": {
            "text/plain": [
              "<matplotlib.axes._subplots.AxesSubplot at 0x7f8ddcbadc50>"
            ]
          },
          "metadata": {
            "tags": []
          },
          "execution_count": 23
        },
        {
          "output_type": "display_data",
          "data": {
            "image/png": "[encoded data removed]",
            "text/plain": [
              "<Figure size 432x288 with 1 Axes>"
            ]
          },
          "metadata": {
            "tags": []
          }
        }
      ]
    }
  ]
}